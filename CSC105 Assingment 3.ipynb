{
 "cells": [
  {
   "cell_type": "markdown",
   "id": "0207babe-73f6-438c-ab78-20dc9df835d4",
   "metadata": {
    "tags": []
   },
   "source": [
    "## **Bar Plot**"
   ]
  },
  {
   "cell_type": "code",
   "execution_count": 2,
   "id": "3550734f-a9b4-43e6-bf9b-6840315d8f83",
   "metadata": {
    "tags": []
   },
   "outputs": [],
   "source": [
    "import pandas as pd\n",
    "from matplotlib import pyplot as plt"
   ]
  },
  {
   "cell_type": "code",
   "execution_count": 3,
   "id": "0f27177b-8714-48f0-b98d-a94727990233",
   "metadata": {
    "tags": []
   },
   "outputs": [
    {
     "data": {
      "text/html": [
       "<div>\n",
       "<style scoped>\n",
       "    .dataframe tbody tr th:only-of-type {\n",
       "        vertical-align: middle;\n",
       "    }\n",
       "\n",
       "    .dataframe tbody tr th {\n",
       "        vertical-align: top;\n",
       "    }\n",
       "\n",
       "    .dataframe thead th {\n",
       "        text-align: right;\n",
       "    }\n",
       "</style>\n",
       "<table border=\"1\" class=\"dataframe\">\n",
       "  <thead>\n",
       "    <tr style=\"text-align: right;\">\n",
       "      <th></th>\n",
       "      <th>Month</th>\n",
       "      <th>AA</th>\n",
       "      <th>AS</th>\n",
       "      <th>B6</th>\n",
       "      <th>DL</th>\n",
       "      <th>EV</th>\n",
       "      <th>F9</th>\n",
       "      <th>HA</th>\n",
       "      <th>MQ</th>\n",
       "      <th>NK</th>\n",
       "      <th>OO</th>\n",
       "      <th>UA</th>\n",
       "      <th>US</th>\n",
       "      <th>VX</th>\n",
       "      <th>WN</th>\n",
       "    </tr>\n",
       "  </thead>\n",
       "  <tbody>\n",
       "    <tr>\n",
       "      <th>0</th>\n",
       "      <td>1</td>\n",
       "      <td>6.955843</td>\n",
       "      <td>-0.320888</td>\n",
       "      <td>7.347281</td>\n",
       "      <td>-2.043847</td>\n",
       "      <td>8.537497</td>\n",
       "      <td>18.357238</td>\n",
       "      <td>3.512640</td>\n",
       "      <td>18.164974</td>\n",
       "      <td>11.398054</td>\n",
       "      <td>10.889894</td>\n",
       "      <td>6.352729</td>\n",
       "      <td>3.107457</td>\n",
       "      <td>1.420702</td>\n",
       "      <td>3.389466</td>\n",
       "    </tr>\n",
       "    <tr>\n",
       "      <th>1</th>\n",
       "      <td>2</td>\n",
       "      <td>7.530204</td>\n",
       "      <td>-0.782923</td>\n",
       "      <td>18.657673</td>\n",
       "      <td>5.614745</td>\n",
       "      <td>10.417236</td>\n",
       "      <td>27.424179</td>\n",
       "      <td>6.029967</td>\n",
       "      <td>21.301627</td>\n",
       "      <td>16.474466</td>\n",
       "      <td>9.588895</td>\n",
       "      <td>7.260662</td>\n",
       "      <td>7.114455</td>\n",
       "      <td>7.784410</td>\n",
       "      <td>3.501363</td>\n",
       "    </tr>\n",
       "    <tr>\n",
       "      <th>2</th>\n",
       "      <td>3</td>\n",
       "      <td>6.693587</td>\n",
       "      <td>-0.544731</td>\n",
       "      <td>10.741317</td>\n",
       "      <td>2.077965</td>\n",
       "      <td>6.730101</td>\n",
       "      <td>20.074855</td>\n",
       "      <td>3.468383</td>\n",
       "      <td>11.018418</td>\n",
       "      <td>10.039118</td>\n",
       "      <td>3.181693</td>\n",
       "      <td>4.892212</td>\n",
       "      <td>3.330787</td>\n",
       "      <td>5.348207</td>\n",
       "      <td>3.263341</td>\n",
       "    </tr>\n",
       "    <tr>\n",
       "      <th>3</th>\n",
       "      <td>4</td>\n",
       "      <td>4.931778</td>\n",
       "      <td>-3.009003</td>\n",
       "      <td>2.780105</td>\n",
       "      <td>0.083343</td>\n",
       "      <td>4.821253</td>\n",
       "      <td>12.640440</td>\n",
       "      <td>0.011022</td>\n",
       "      <td>5.131228</td>\n",
       "      <td>8.766224</td>\n",
       "      <td>3.223796</td>\n",
       "      <td>4.376092</td>\n",
       "      <td>2.660290</td>\n",
       "      <td>0.995507</td>\n",
       "      <td>2.996399</td>\n",
       "    </tr>\n",
       "    <tr>\n",
       "      <th>4</th>\n",
       "      <td>5</td>\n",
       "      <td>5.173878</td>\n",
       "      <td>-1.716398</td>\n",
       "      <td>-0.709019</td>\n",
       "      <td>0.149333</td>\n",
       "      <td>7.724290</td>\n",
       "      <td>13.007554</td>\n",
       "      <td>0.826426</td>\n",
       "      <td>5.466790</td>\n",
       "      <td>22.397347</td>\n",
       "      <td>4.141162</td>\n",
       "      <td>6.827695</td>\n",
       "      <td>0.681605</td>\n",
       "      <td>7.102021</td>\n",
       "      <td>5.680777</td>\n",
       "    </tr>\n",
       "    <tr>\n",
       "      <th>5</th>\n",
       "      <td>6</td>\n",
       "      <td>8.191017</td>\n",
       "      <td>-0.220621</td>\n",
       "      <td>5.047155</td>\n",
       "      <td>4.419594</td>\n",
       "      <td>13.952793</td>\n",
       "      <td>19.712951</td>\n",
       "      <td>0.882786</td>\n",
       "      <td>9.639323</td>\n",
       "      <td>35.561501</td>\n",
       "      <td>8.338477</td>\n",
       "      <td>16.932663</td>\n",
       "      <td>5.766296</td>\n",
       "      <td>5.779415</td>\n",
       "      <td>10.743462</td>\n",
       "    </tr>\n",
       "    <tr>\n",
       "      <th>6</th>\n",
       "      <td>7</td>\n",
       "      <td>3.870440</td>\n",
       "      <td>0.377408</td>\n",
       "      <td>5.841454</td>\n",
       "      <td>1.204862</td>\n",
       "      <td>6.926421</td>\n",
       "      <td>14.464543</td>\n",
       "      <td>2.001586</td>\n",
       "      <td>3.980289</td>\n",
       "      <td>14.352382</td>\n",
       "      <td>6.790333</td>\n",
       "      <td>10.262551</td>\n",
       "      <td>NaN</td>\n",
       "      <td>7.135773</td>\n",
       "      <td>10.504942</td>\n",
       "    </tr>\n",
       "    <tr>\n",
       "      <th>7</th>\n",
       "      <td>8</td>\n",
       "      <td>3.193907</td>\n",
       "      <td>2.503899</td>\n",
       "      <td>9.280950</td>\n",
       "      <td>0.653114</td>\n",
       "      <td>5.154422</td>\n",
       "      <td>9.175737</td>\n",
       "      <td>7.448029</td>\n",
       "      <td>1.896565</td>\n",
       "      <td>20.519018</td>\n",
       "      <td>5.606689</td>\n",
       "      <td>5.014041</td>\n",
       "      <td>NaN</td>\n",
       "      <td>5.106221</td>\n",
       "      <td>5.532108</td>\n",
       "    </tr>\n",
       "    <tr>\n",
       "      <th>8</th>\n",
       "      <td>9</td>\n",
       "      <td>-1.432732</td>\n",
       "      <td>-1.813800</td>\n",
       "      <td>3.539154</td>\n",
       "      <td>-3.703377</td>\n",
       "      <td>0.851062</td>\n",
       "      <td>0.978460</td>\n",
       "      <td>3.696915</td>\n",
       "      <td>-2.167268</td>\n",
       "      <td>8.000101</td>\n",
       "      <td>1.530896</td>\n",
       "      <td>-1.794265</td>\n",
       "      <td>NaN</td>\n",
       "      <td>0.070998</td>\n",
       "      <td>-1.336260</td>\n",
       "    </tr>\n",
       "    <tr>\n",
       "      <th>9</th>\n",
       "      <td>10</td>\n",
       "      <td>-0.580930</td>\n",
       "      <td>-2.993617</td>\n",
       "      <td>3.676787</td>\n",
       "      <td>-5.011516</td>\n",
       "      <td>2.303760</td>\n",
       "      <td>0.082127</td>\n",
       "      <td>0.467074</td>\n",
       "      <td>-3.735054</td>\n",
       "      <td>6.810736</td>\n",
       "      <td>1.750897</td>\n",
       "      <td>-2.456542</td>\n",
       "      <td>NaN</td>\n",
       "      <td>2.254278</td>\n",
       "      <td>-0.688851</td>\n",
       "    </tr>\n",
       "    <tr>\n",
       "      <th>10</th>\n",
       "      <td>11</td>\n",
       "      <td>0.772630</td>\n",
       "      <td>-1.916516</td>\n",
       "      <td>1.418299</td>\n",
       "      <td>-3.175414</td>\n",
       "      <td>4.415930</td>\n",
       "      <td>11.164527</td>\n",
       "      <td>-2.719894</td>\n",
       "      <td>0.220061</td>\n",
       "      <td>7.543881</td>\n",
       "      <td>4.925548</td>\n",
       "      <td>0.281064</td>\n",
       "      <td>NaN</td>\n",
       "      <td>0.116370</td>\n",
       "      <td>0.995684</td>\n",
       "    </tr>\n",
       "    <tr>\n",
       "      <th>11</th>\n",
       "      <td>12</td>\n",
       "      <td>4.149684</td>\n",
       "      <td>-1.846681</td>\n",
       "      <td>13.839290</td>\n",
       "      <td>2.504595</td>\n",
       "      <td>6.685176</td>\n",
       "      <td>9.346221</td>\n",
       "      <td>-1.706475</td>\n",
       "      <td>0.662486</td>\n",
       "      <td>12.733123</td>\n",
       "      <td>10.947612</td>\n",
       "      <td>7.012079</td>\n",
       "      <td>NaN</td>\n",
       "      <td>13.498720</td>\n",
       "      <td>6.720893</td>\n",
       "    </tr>\n",
       "  </tbody>\n",
       "</table>\n",
       "</div>"
      ],
      "text/plain": [
       "    Month        AA        AS         B6        DL         EV         F9  \\\n",
       "0       1  6.955843 -0.320888   7.347281 -2.043847   8.537497  18.357238   \n",
       "1       2  7.530204 -0.782923  18.657673  5.614745  10.417236  27.424179   \n",
       "2       3  6.693587 -0.544731  10.741317  2.077965   6.730101  20.074855   \n",
       "3       4  4.931778 -3.009003   2.780105  0.083343   4.821253  12.640440   \n",
       "4       5  5.173878 -1.716398  -0.709019  0.149333   7.724290  13.007554   \n",
       "5       6  8.191017 -0.220621   5.047155  4.419594  13.952793  19.712951   \n",
       "6       7  3.870440  0.377408   5.841454  1.204862   6.926421  14.464543   \n",
       "7       8  3.193907  2.503899   9.280950  0.653114   5.154422   9.175737   \n",
       "8       9 -1.432732 -1.813800   3.539154 -3.703377   0.851062   0.978460   \n",
       "9      10 -0.580930 -2.993617   3.676787 -5.011516   2.303760   0.082127   \n",
       "10     11  0.772630 -1.916516   1.418299 -3.175414   4.415930  11.164527   \n",
       "11     12  4.149684 -1.846681  13.839290  2.504595   6.685176   9.346221   \n",
       "\n",
       "          HA         MQ         NK         OO         UA        US         VX  \\\n",
       "0   3.512640  18.164974  11.398054  10.889894   6.352729  3.107457   1.420702   \n",
       "1   6.029967  21.301627  16.474466   9.588895   7.260662  7.114455   7.784410   \n",
       "2   3.468383  11.018418  10.039118   3.181693   4.892212  3.330787   5.348207   \n",
       "3   0.011022   5.131228   8.766224   3.223796   4.376092  2.660290   0.995507   \n",
       "4   0.826426   5.466790  22.397347   4.141162   6.827695  0.681605   7.102021   \n",
       "5   0.882786   9.639323  35.561501   8.338477  16.932663  5.766296   5.779415   \n",
       "6   2.001586   3.980289  14.352382   6.790333  10.262551       NaN   7.135773   \n",
       "7   7.448029   1.896565  20.519018   5.606689   5.014041       NaN   5.106221   \n",
       "8   3.696915  -2.167268   8.000101   1.530896  -1.794265       NaN   0.070998   \n",
       "9   0.467074  -3.735054   6.810736   1.750897  -2.456542       NaN   2.254278   \n",
       "10 -2.719894   0.220061   7.543881   4.925548   0.281064       NaN   0.116370   \n",
       "11 -1.706475   0.662486  12.733123  10.947612   7.012079       NaN  13.498720   \n",
       "\n",
       "           WN  \n",
       "0    3.389466  \n",
       "1    3.501363  \n",
       "2    3.263341  \n",
       "3    2.996399  \n",
       "4    5.680777  \n",
       "5   10.743462  \n",
       "6   10.504942  \n",
       "7    5.532108  \n",
       "8   -1.336260  \n",
       "9   -0.688851  \n",
       "10   0.995684  \n",
       "11   6.720893  "
      ]
     },
     "execution_count": 3,
     "metadata": {},
     "output_type": "execute_result"
    }
   ],
   "source": [
    "df = pd.read_csv(\"data/flight_delays.csv\")\n",
    "\n",
    "df"
   ]
  },
  {
   "cell_type": "code",
   "execution_count": 4,
   "id": "92b44afb-6051-4b62-b761-aa436d9c0510",
   "metadata": {
    "tags": []
   },
   "outputs": [],
   "source": [
    "Month = df[\"Month\"]\n",
    "Flight_Delay = df[\"NK\"]"
   ]
  },
  {
   "cell_type": "code",
   "execution_count": 5,
   "id": "a66e4ec5-14c2-4564-8ef4-a230319d8369",
   "metadata": {
    "tags": []
   },
   "outputs": [
    {
     "data": {
      "text/plain": [
       "<function matplotlib.pyplot.show(close=None, block=None)>"
      ]
     },
     "execution_count": 5,
     "metadata": {},
     "output_type": "execute_result"
    },
    {
     "data": {
      "image/png": "[encoded data removed]",
      "text/plain": [
       "<Figure size 640x480 with 1 Axes>"
      ]
     },
     "metadata": {},
     "output_type": "display_data"
    }
   ],
   "source": [
    "plt.bar(Month,Flight_Delay)\n",
    "plt.show"
   ]
  },
  {
   "cell_type": "code",
   "execution_count": 7,
   "id": "e9788efe-d6a1-4953-b5fc-e961d048145c",
   "metadata": {
    "tags": []
   },
   "outputs": [
    {
     "data": {
      "text/plain": [
       "<function matplotlib.pyplot.show(close=None, block=None)>"
      ]
     },
     "execution_count": 7,
     "metadata": {},
     "output_type": "execute_result"
    },
    {
     "data": {
      "image/png": "[encoded data removed]",
      "text/plain": [
       "<Figure size 640x480 with 1 Axes>"
      ]
     },
     "metadata": {},
     "output_type": "display_data"
    }
   ],
   "source": [
    "plt.bar(Month,Flight_Delay,color=\"red\",width=.5)\n",
    "\n",
    "plt.title(\"Average Arrival Delay for Spirit Airlines Flights, by Months\")\n",
    "plt.xlabel(\"Months\")\n",
    "plt.ylabel(\"Arrival Delay(in minutes)\")\n",
    "\n",
    "plt.show"
   ]
  },
  {
   "cell_type": "markdown",
   "id": "a80da4d0-9606-485a-85e9-e49447f325a3",
   "metadata": {
    "tags": []
   },
   "source": [
    "The month with the longest delays was June, and the month with the shortest delays was October. June may have the longest delays because June marks the start of summer, a time when many people like to travel for a vacation, and the more people flying may cause longer delays in flights. The summer months have the longest delays on average. A similar but not as large spike happens in December, another popular travel time."
   ]
  },
  {
   "cell_type": "markdown",
   "id": "dd8a0f21-9b48-4a9a-8d40-e762ceb29400",
   "metadata": {},
   "source": [
    "## **Line Plot**"
   ]
  },
  {
   "cell_type": "code",
   "execution_count": 9,
   "id": "b3ab6a5e-cd53-4fb7-9644-7576b934dd7d",
   "metadata": {
    "tags": []
   },
   "outputs": [
    {
     "data": {
      "text/html": [
       "<div>\n",
       "<style scoped>\n",
       "    .dataframe tbody tr th:only-of-type {\n",
       "        vertical-align: middle;\n",
       "    }\n",
       "\n",
       "    .dataframe tbody tr th {\n",
       "        vertical-align: top;\n",
       "    }\n",
       "\n",
       "    .dataframe thead th {\n",
       "        text-align: right;\n",
       "    }\n",
       "</style>\n",
       "<table border=\"1\" class=\"dataframe\">\n",
       "  <thead>\n",
       "    <tr style=\"text-align: right;\">\n",
       "      <th></th>\n",
       "      <th>trip_duration</th>\n",
       "      <th>distance_traveled</th>\n",
       "      <th>num_of_passengers</th>\n",
       "      <th>fare</th>\n",
       "      <th>tip</th>\n",
       "      <th>miscellaneous_fees</th>\n",
       "      <th>total_fare</th>\n",
       "      <th>surge_applied</th>\n",
       "    </tr>\n",
       "  </thead>\n",
       "  <tbody>\n",
       "    <tr>\n",
       "      <th>0</th>\n",
       "      <td>748.0</td>\n",
       "      <td>2.75</td>\n",
       "      <td>1.0</td>\n",
       "      <td>75.00</td>\n",
       "      <td>24</td>\n",
       "      <td>6.300</td>\n",
       "      <td>105.300</td>\n",
       "      <td>0</td>\n",
       "    </tr>\n",
       "    <tr>\n",
       "      <th>1</th>\n",
       "      <td>1187.0</td>\n",
       "      <td>3.43</td>\n",
       "      <td>1.0</td>\n",
       "      <td>105.00</td>\n",
       "      <td>24</td>\n",
       "      <td>13.200</td>\n",
       "      <td>142.200</td>\n",
       "      <td>0</td>\n",
       "    </tr>\n",
       "    <tr>\n",
       "      <th>2</th>\n",
       "      <td>730.0</td>\n",
       "      <td>3.12</td>\n",
       "      <td>1.0</td>\n",
       "      <td>71.25</td>\n",
       "      <td>0</td>\n",
       "      <td>26.625</td>\n",
       "      <td>97.875</td>\n",
       "      <td>1</td>\n",
       "    </tr>\n",
       "    <tr>\n",
       "      <th>3</th>\n",
       "      <td>671.0</td>\n",
       "      <td>5.63</td>\n",
       "      <td>3.0</td>\n",
       "      <td>90.00</td>\n",
       "      <td>0</td>\n",
       "      <td>9.750</td>\n",
       "      <td>99.750</td>\n",
       "      <td>0</td>\n",
       "    </tr>\n",
       "    <tr>\n",
       "      <th>4</th>\n",
       "      <td>329.0</td>\n",
       "      <td>2.09</td>\n",
       "      <td>1.0</td>\n",
       "      <td>45.00</td>\n",
       "      <td>12</td>\n",
       "      <td>13.200</td>\n",
       "      <td>70.200</td>\n",
       "      <td>0</td>\n",
       "    </tr>\n",
       "  </tbody>\n",
       "</table>\n",
       "</div>"
      ],
      "text/plain": [
       "   trip_duration  distance_traveled  num_of_passengers    fare  tip  \\\n",
       "0          748.0               2.75                1.0   75.00   24   \n",
       "1         1187.0               3.43                1.0  105.00   24   \n",
       "2          730.0               3.12                1.0   71.25    0   \n",
       "3          671.0               5.63                3.0   90.00    0   \n",
       "4          329.0               2.09                1.0   45.00   12   \n",
       "\n",
       "   miscellaneous_fees  total_fare  surge_applied  \n",
       "0               6.300     105.300              0  \n",
       "1              13.200     142.200              0  \n",
       "2              26.625      97.875              1  \n",
       "3               9.750      99.750              0  \n",
       "4              13.200      70.200              0  "
      ]
     },
     "execution_count": 9,
     "metadata": {},
     "output_type": "execute_result"
    }
   ],
   "source": [
    "df = pd.read_csv(\"data/taxi_trip.csv\")\n",
    "\n",
    "df.head()"
   ]
  },
  {
   "cell_type": "code",
   "execution_count": 10,
   "id": "09609eab-6869-4c48-9fdf-2d7f06fa1786",
   "metadata": {
    "tags": []
   },
   "outputs": [
    {
     "data": {
      "text/html": [
       "<div>\n",
       "<style scoped>\n",
       "    .dataframe tbody tr th:only-of-type {\n",
       "        vertical-align: middle;\n",
       "    }\n",
       "\n",
       "    .dataframe tbody tr th {\n",
       "        vertical-align: top;\n",
       "    }\n",
       "\n",
       "    .dataframe thead th {\n",
       "        text-align: right;\n",
       "    }\n",
       "</style>\n",
       "<table border=\"1\" class=\"dataframe\">\n",
       "  <thead>\n",
       "    <tr style=\"text-align: right;\">\n",
       "      <th></th>\n",
       "      <th>trip_duration</th>\n",
       "      <th>total_fare</th>\n",
       "      <th>tip</th>\n",
       "    </tr>\n",
       "  </thead>\n",
       "  <tbody>\n",
       "    <tr>\n",
       "      <th>0</th>\n",
       "      <td>748.0</td>\n",
       "      <td>105.300</td>\n",
       "      <td>24</td>\n",
       "    </tr>\n",
       "    <tr>\n",
       "      <th>1</th>\n",
       "      <td>1187.0</td>\n",
       "      <td>142.200</td>\n",
       "      <td>24</td>\n",
       "    </tr>\n",
       "    <tr>\n",
       "      <th>2</th>\n",
       "      <td>730.0</td>\n",
       "      <td>97.875</td>\n",
       "      <td>0</td>\n",
       "    </tr>\n",
       "    <tr>\n",
       "      <th>3</th>\n",
       "      <td>671.0</td>\n",
       "      <td>99.750</td>\n",
       "      <td>0</td>\n",
       "    </tr>\n",
       "    <tr>\n",
       "      <th>4</th>\n",
       "      <td>329.0</td>\n",
       "      <td>70.200</td>\n",
       "      <td>12</td>\n",
       "    </tr>\n",
       "    <tr>\n",
       "      <th>...</th>\n",
       "      <td>...</td>\n",
       "      <td>...</td>\n",
       "      <td>...</td>\n",
       "    </tr>\n",
       "    <tr>\n",
       "      <th>209668</th>\n",
       "      <td>1617.0</td>\n",
       "      <td>202.800</td>\n",
       "      <td>47</td>\n",
       "    </tr>\n",
       "    <tr>\n",
       "      <th>209669</th>\n",
       "      <td>438.0</td>\n",
       "      <td>95.325</td>\n",
       "      <td>12</td>\n",
       "    </tr>\n",
       "    <tr>\n",
       "      <th>209670</th>\n",
       "      <td>571.0</td>\n",
       "      <td>69.750</td>\n",
       "      <td>0</td>\n",
       "    </tr>\n",
       "    <tr>\n",
       "      <th>209671</th>\n",
       "      <td>491.0</td>\n",
       "      <td>69.750</td>\n",
       "      <td>0</td>\n",
       "    </tr>\n",
       "    <tr>\n",
       "      <th>209672</th>\n",
       "      <td>3614.0</td>\n",
       "      <td>339.750</td>\n",
       "      <td>0</td>\n",
       "    </tr>\n",
       "  </tbody>\n",
       "</table>\n",
       "<p>209673 rows × 3 columns</p>\n",
       "</div>"
      ],
      "text/plain": [
       "        trip_duration  total_fare  tip\n",
       "0               748.0     105.300   24\n",
       "1              1187.0     142.200   24\n",
       "2               730.0      97.875    0\n",
       "3               671.0      99.750    0\n",
       "4               329.0      70.200   12\n",
       "...               ...         ...  ...\n",
       "209668         1617.0     202.800   47\n",
       "209669          438.0      95.325   12\n",
       "209670          571.0      69.750    0\n",
       "209671          491.0      69.750    0\n",
       "209672         3614.0     339.750    0\n",
       "\n",
       "[209673 rows x 3 columns]"
      ]
     },
     "execution_count": 10,
     "metadata": {},
     "output_type": "execute_result"
    }
   ],
   "source": [
    "df[['trip_duration', 'total_fare', 'tip']]"
   ]
  },
  {
   "cell_type": "code",
   "execution_count": 11,
   "id": "02f74fcc-0211-4fc7-a40a-4e47dae1f623",
   "metadata": {
    "tags": []
   },
   "outputs": [
    {
     "data": {
      "text/plain": [
       "[<matplotlib.lines.Line2D at 0x21a4e997c90>]"
      ]
     },
     "execution_count": 11,
     "metadata": {},
     "output_type": "execute_result"
    },
    {
     "data": {
      "image/png": "[encoded data removed]",
      "text/plain": [
       "<Figure size 640x480 with 1 Axes>"
      ]
     },
     "metadata": {},
     "output_type": "display_data"
    }
   ],
   "source": [
    "Trip_Duration = df[\"trip_duration\"].head(20)\n",
    "Tip_Recieved = df[\"tip\"].head(20)\n",
    "Total_Fare = df[\"total_fare\"].head(20)\n",
    "plt.plot(Trip_Duration, Tip_Recieved)\n",
    "plt.plot(Trip_Duration, Total_Fare)"
   ]
  },
  {
   "cell_type": "code",
   "execution_count": 13,
   "id": "1ab1713e-2638-49ca-8659-3124cc99e185",
   "metadata": {},
   "outputs": [
    {
     "data": {
      "image/png": "[encoded data removed]",
      "text/plain": [
       "<Figure size 640x480 with 1 Axes>"
      ]
     },
     "metadata": {},
     "output_type": "display_data"
    }
   ],
   "source": [
    "plt.plot(Trip_Duration, Tip_Recieved,color=\"r\", linestyle=\"--\",marker=\"o\", label= \"Tip Recieved\")\n",
    "plt.plot(Trip_Duration, Total_Fare, color=\"g\",linestyle=':',marker=\".\", label= \"Total Fare\" )\n",
    "\n",
    "plt.title(\"Total Fare vs Tips Received by Trip Duration\")\n",
    "plt.xlabel(\"Trip Duration\")\n",
    "plt.ylabel(\"Amount Paid(in USD)\")\n",
    "\n",
    "plt.legend()\n",
    "\n",
    "plt.show()"
   ]
  },
  {
   "cell_type": "markdown",
   "id": "58fa1a91-17d3-4c73-9185-f990a6a61068",
   "metadata": {},
   "source": [
    "There doesn't seem to be very much of a correlation between the tip given and the trip duration, but there is a slight correlation in a postive incline in the amount paid. There is a large bunch around the $0 area with the tips recieved. This could be explained by the fact that there are a fair ammount of people who don't leave tips, or leave considerably less than the standard 20% tip after their service, be it that there wasn't good service, they don't typically like leaving tips, or they can't afford to leave a large tip."
   ]
  },
  {
   "cell_type": "code",
   "execution_count": null,
   "id": "77aa2936-6aa5-4802-8b6e-e3d0b4fa1f69",
   "metadata": {},
   "outputs": [],
   "source": []
  }
 ],
 "metadata": {
  "kernelspec": {
   "display_name": "Python 3 (ipykernel)",
   "language": "python",
   "name": "python3"
  },
  "language_info": {
   "codemirror_mode": {
    "name": "ipython",
    "version": 3
   },
   "file_extension": ".py",
   "mimetype": "text/x-python",
   "name": "python",
   "nbconvert_exporter": "python",
   "pygments_lexer": "ipython3",
   "version": "3.11.4"
  }
 },
 "nbformat": 4,
 "nbformat_minor": 5
}
